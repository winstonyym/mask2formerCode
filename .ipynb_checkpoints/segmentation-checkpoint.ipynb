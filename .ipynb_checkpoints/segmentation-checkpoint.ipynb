{
 "cells": [
  {
   "cell_type": "markdown",
   "id": "9dea06e1-a84a-4cef-9100-58fe785ccb8e",
   "metadata": {},
   "source": [
    "## Semantic Segmentation"
   ]
  },
  {
   "cell_type": "markdown",
   "id": "b2bbaebc-7fa8-440f-865f-422d2d541b3b",
   "metadata": {},
   "source": [
    "## Set Start State"
   ]
  },
  {
   "cell_type": "code",
   "execution_count": 1,
   "id": "4549c589-02b5-445c-8a6d-e85c026a7397",
   "metadata": {},
   "outputs": [],
   "source": [
    "start = 0\n",
    "image_indicators_dict = {}"
   ]
  },
  {
   "cell_type": "markdown",
   "id": "10ba3ce3-c5f8-4908-aeab-9d1d73b91798",
   "metadata": {},
   "source": [
    "## Import Libraries"
   ]
  },
  {
   "cell_type": "code",
   "execution_count": 2,
   "id": "7b7304de-84b4-4937-8f98-b4241ba6bf55",
   "metadata": {},
   "outputs": [
    {
     "name": "stderr",
     "output_type": "stream",
     "text": [
      "/Users/winston/miniconda3/envs/svi_global/lib/python3.9/site-packages/tqdm/auto.py:21: TqdmWarning: IProgress not found. Please update jupyter and ipywidgets. See https://ipywidgets.readthedocs.io/en/stable/user_install.html\n",
      "  from .autonotebook import tqdm as notebook_tqdm\n"
     ]
    }
   ],
   "source": [
    "import requests\n",
    "import json\n",
    "import torch\n",
    "import glob\n",
    "import os\n",
    "import numpy as np\n",
    "import shutil\n",
    "from PIL import Image, UnidentifiedImageError\n",
    "from torchvision import transforms\n",
    "from transformers import AutoImageProcessor, Mask2FormerForUniversalSegmentation\n",
    "import warnings\n",
    "import time\n",
    "import logging"
   ]
  },
  {
   "cell_type": "markdown",
   "id": "012319f0-ff77-426e-9eac-856a8c216009",
   "metadata": {},
   "source": [
    "## Configure Directory"
   ]
  },
  {
   "cell_type": "code",
   "execution_count": 3,
   "id": "cf954b36-b78f-4cc8-bbfa-3358eeb2368b",
   "metadata": {},
   "outputs": [],
   "source": [
    "if not os.path.exists(f'./outputs'):\n",
    "    os.makedirs(f'./outputs')"
   ]
  },
  {
   "cell_type": "code",
   "execution_count": null,
   "id": "fdeba16e-89ef-45bc-b65c-dc16940af486",
   "metadata": {},
   "outputs": [],
   "source": [
    "for file in os.listdir(\"/mydir\"):\n",
    "    if file.endswith(\".txt\"):\n",
    "        print(os.path.join(\"/mydir\", file))"
   ]
  },
  {
   "cell_type": "code",
   "execution_count": 22,
   "id": "65e0c877-232d-4b86-a826-2d24c9664905",
   "metadata": {},
   "outputs": [],
   "source": [
    "image_set = [i for i in os.listdir('./test')]"
   ]
  },
  {
   "cell_type": "code",
   "execution_count": 23,
   "id": "535542dc-0cd3-4852-b422-262a330d2b0b",
   "metadata": {},
   "outputs": [
    {
     "data": {
      "text/plain": [
       "['139784358078458.jpg',\n",
       " '113256921118965.jpg',\n",
       " '130326246141798.jpg',\n",
       " '130816899585186.jpg',\n",
       " '133260865451337.jpg',\n",
       " '130593129639737.jpg',\n",
       " '.ipynb_checkpoints',\n",
       " '128261845943214.jpg',\n",
       " 'fakeimage.jpg',\n",
       " 'fakeimage.png',\n",
       " '113165904586142.jpg']"
      ]
     },
     "execution_count": 23,
     "metadata": {},
     "output_type": "execute_result"
    }
   ],
   "source": [
    "image_set"
   ]
  },
  {
   "cell_type": "markdown",
   "id": "798c025e-426e-4296-ac6d-d72ab1b4a6fa",
   "metadata": {},
   "source": [
    "## Set cuda"
   ]
  },
  {
   "cell_type": "code",
   "execution_count": 5,
   "id": "4756ac22-82a3-4b9e-a335-2e6e9a6bbe6e",
   "metadata": {},
   "outputs": [
    {
     "name": "stdout",
     "output_type": "stream",
     "text": [
      "cpu\n"
     ]
    }
   ],
   "source": [
    "device = torch.device('cuda' if torch.cuda.is_available() else 'cpu')\n",
    "print(device)"
   ]
  },
  {
   "cell_type": "markdown",
   "id": "26562b04-5def-4743-bc89-586563b4714f",
   "metadata": {},
   "source": [
    "## Load Helper Function"
   ]
  },
  {
   "cell_type": "code",
   "execution_count": 32,
   "id": "6e7e69f9-d645-45e4-96b8-7cebb3904462",
   "metadata": {},
   "outputs": [],
   "source": [
    "NUM_CLASSES = 65 \n",
    "\n",
    "def addIndice(output_max):\n",
    "    set_of_pixels = torch.unique(output_max, return_counts=True)\n",
    "    set_dictionary = {}\n",
    "    for i in range(NUM_CLASSES):\n",
    "            set_dictionary[i] = float(\"NaN\")\n",
    "    for pixel,count in zip(set_of_pixels[0], set_of_pixels[1]):\n",
    "        set_dictionary[pixel.item()] = count.item()\n",
    "    set_dictionary[65] = int(np.nansum(list(set_dictionary.values())))\n",
    "    return set_dictionary"
   ]
  },
  {
   "cell_type": "markdown",
   "id": "220c4492-1c36-4b3a-bede-619cd57483dd",
   "metadata": {},
   "source": [
    "## Load Pre-trained Model"
   ]
  },
  {
   "cell_type": "code",
   "execution_count": 7,
   "id": "666ed064-4abb-4150-8b71-e83b3a6619c8",
   "metadata": {},
   "outputs": [],
   "source": [
    "# load Mask2Former fine-tuned on Mapillary Vistas semantic segmentation\n",
    "processor = AutoImageProcessor.from_pretrained(\"facebook/mask2former-swin-large-mapillary-vistas-semantic\")\n",
    "model = Mask2FormerForUniversalSegmentation.from_pretrained(\"facebook/mask2former-swin-large-mapillary-vistas-semantic\")\n",
    "model = model.to(device)"
   ]
  },
  {
   "cell_type": "markdown",
   "id": "a2d2f18d-8320-4a86-aa72-f86b1951865d",
   "metadata": {},
   "source": [
    "## Configure Logger"
   ]
  },
  {
   "cell_type": "code",
   "execution_count": 8,
   "id": "f7d36244-5a0a-4e89-b832-0826f635bcd0",
   "metadata": {},
   "outputs": [],
   "source": [
    "#now we will Create and configure logger \n",
    "logging.basicConfig(filename=\"std.log\", format='%(asctime)s %(message)s', filemode='w') \n",
    "\n",
    "#Let us Create an object \n",
    "logger=logging.getLogger() \n",
    "\n",
    "#Now we are going to Set the threshold of logger to DEBUG \n",
    "logger.setLevel(logging.INFO) "
   ]
  },
  {
   "cell_type": "markdown",
   "id": "78336458-ca9a-4bda-9dba-9d549ccf51a8",
   "metadata": {},
   "source": [
    "## Segmentation"
   ]
  },
  {
   "cell_type": "code",
   "execution_count": 9,
   "id": "13158e0f-2556-499f-af24-e452c47aa1ef",
   "metadata": {},
   "outputs": [],
   "source": [
    "for i, image in enumerate(image_set[start:]):\n",
    "    try:\n",
    "        img = Image.open(f'./test/{image}')\n",
    "        inputs = processor(images=img, return_tensors=\"pt\")\n",
    "        with torch.no_grad():\n",
    "            pixel_values = inputs['pixel_values'].to(device)\n",
    "            pixel_mask = inputs['pixel_mask'].to(device)\n",
    "            outputs = model(pixel_values = pixel_values, pixel_mask = pixel_mask)\n",
    "        out = processor.post_process_semantic_segmentation(outputs, target_sizes=[img.size[::-1]])[0].to('cpu')\n",
    "        image_indicators_dict[image] = addIndice(out)\n",
    "        logger.info(f\"Segmented {i:image}\")\n",
    "    except:\n",
    "        logger.info(f\"Failed for {i:image}\") "
   ]
  },
  {
   "cell_type": "markdown",
   "id": "4673dd17-96f9-4334-b108-cfce36c556c6",
   "metadata": {},
   "source": [
    "## Remove logging"
   ]
  },
  {
   "cell_type": "code",
   "execution_count": 10,
   "id": "a5e6488e-2b78-4f31-b62d-8367a7e6240c",
   "metadata": {},
   "outputs": [],
   "source": [
    "# with open('std.log', 'w'):\n",
    "#     pass"
   ]
  },
  {
   "cell_type": "code",
   "execution_count": 27,
   "id": "e4c9eca2-b711-4790-aa19-dedec0c87230",
   "metadata": {},
   "outputs": [],
   "source": [
    "import pandas"
   ]
  },
  {
   "cell_type": "code",
   "execution_count": 30,
   "id": "a17cd2ea-4f84-4a9c-82d4-566d95c9fce4",
   "metadata": {},
   "outputs": [],
   "source": [
    "df = pd.DataFrame.from_dict(image_indicators_dict, orient='index') "
   ]
  },
  {
   "cell_type": "code",
   "execution_count": 34,
   "id": "2696455f-e7b4-43f5-9aad-342ad7225c51",
   "metadata": {},
   "outputs": [],
   "source": [
    "df.to_csv (r'./outputs/output.csv', index = True, header=True)"
   ]
  },
  {
   "cell_type": "code",
   "execution_count": null,
   "id": "1fc020d1-bb06-4f27-91ef-c98e2b53aeec",
   "metadata": {},
   "outputs": [],
   "source": []
  }
 ],
 "metadata": {
  "kernelspec": {
   "display_name": "svi_global",
   "language": "python",
   "name": "svi_global"
  },
  "language_info": {
   "codemirror_mode": {
    "name": "ipython",
    "version": 3
   },
   "file_extension": ".py",
   "mimetype": "text/x-python",
   "name": "python",
   "nbconvert_exporter": "python",
   "pygments_lexer": "ipython3",
   "version": "3.9.16"
  }
 },
 "nbformat": 4,
 "nbformat_minor": 5
}
