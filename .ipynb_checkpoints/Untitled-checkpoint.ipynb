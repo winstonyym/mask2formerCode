{
 "cells": [
  {
   "cell_type": "code",
   "execution_count": 8,
   "id": "05242633-594e-43df-8b06-2e17673c5f45",
   "metadata": {},
   "outputs": [
    {
     "name": "stderr",
     "output_type": "stream",
     "text": [
      "/Users/winston/miniconda3/envs/svi_global/lib/python3.9/site-packages/tqdm/auto.py:21: TqdmWarning: IProgress not found. Please update jupyter and ipywidgets. See https://ipywidgets.readthedocs.io/en/stable/user_install.html\n",
      "  from .autonotebook import tqdm as notebook_tqdm\n"
     ]
    }
   ],
   "source": [
    "import requests\n",
    "import json\n",
    "import torch\n",
    "import glob\n",
    "import os\n",
    "import numpy as np\n",
    "import shutil\n",
    "import argparse\n",
    "import logging\n",
    "import pandas as pd\n",
    "from PIL import Image, UnidentifiedImageError\n",
    "from torchvision import transforms\n",
    "from transformers import AutoImageProcessor, Mask2FormerForUniversalSegmentation\n",
    "import warnings\n",
    "import time"
   ]
  },
  {
   "cell_type": "code",
   "execution_count": 28,
   "id": "84a2835f-579c-41a9-a9e1-86fc761fe6c5",
   "metadata": {},
   "outputs": [],
   "source": [
    "with open('classnum_to_cls.json', 'r') as f:\n",
    "  data = json.load(f)"
   ]
  },
  {
   "cell_type": "code",
   "execution_count": 29,
   "id": "0cd66938-3b32-42a4-8ab4-a9407266a325",
   "metadata": {},
   "outputs": [
    {
     "data": {
      "text/plain": [
       "{'0': 'Bird',\n",
       " '1': 'Ground Animal',\n",
       " '2': 'Curb',\n",
       " '3': 'Fence',\n",
       " '4': 'Guard Rail',\n",
       " '5': 'Barrier',\n",
       " '6': 'Wall',\n",
       " '7': 'Bike Lane',\n",
       " '8': 'Crosswalk - Plain',\n",
       " '9': 'Curb Cut',\n",
       " '10': 'Parking',\n",
       " '11': 'Pedestrian Area',\n",
       " '12': 'Rail Track',\n",
       " '13': 'Road',\n",
       " '14': 'Service Lane',\n",
       " '15': 'Sidewalk',\n",
       " '16': 'Bridge',\n",
       " '17': 'Building',\n",
       " '18': 'Tunnel',\n",
       " '19': 'Person',\n",
       " '20': 'Bicyclist',\n",
       " '21': 'Motorcyclist',\n",
       " '22': 'Other Rider',\n",
       " '23': 'Lane Marking - Crosswalk',\n",
       " '24': 'Lane Marking - General',\n",
       " '25': 'Mountain',\n",
       " '26': 'Sand',\n",
       " '27': 'Sky',\n",
       " '28': 'Snow',\n",
       " '29': 'Terrain',\n",
       " '30': 'Vegetation',\n",
       " '31': 'Water',\n",
       " '32': 'Banner',\n",
       " '33': 'Bench',\n",
       " '34': 'Bike Rack',\n",
       " '35': 'Billboard',\n",
       " '36': 'Catch Basin',\n",
       " '37': 'CCTV Camera',\n",
       " '38': 'Fire Hydrant',\n",
       " '39': 'Junction Box',\n",
       " '40': 'Mailbox',\n",
       " '41': 'Manhole',\n",
       " '42': 'Phone Booth',\n",
       " '43': 'Pothole',\n",
       " '44': 'Street Light',\n",
       " '45': 'Pole',\n",
       " '46': 'Traffic Sign Frame',\n",
       " '47': 'Utility Pole',\n",
       " '48': 'Traffic Light',\n",
       " '49': 'Traffic Sign (Back)',\n",
       " '50': 'Traffic Sign (Front)',\n",
       " '51': 'Trash Can',\n",
       " '52': 'Bicycle',\n",
       " '53': 'Boat',\n",
       " '54': 'Bus',\n",
       " '55': 'Car',\n",
       " '56': 'Caravan',\n",
       " '57': 'Motorcycle',\n",
       " '58': 'On Rails',\n",
       " '59': 'Other Vehicle',\n",
       " '60': 'Trailer',\n",
       " '61': 'Truck',\n",
       " '62': 'Wheeled Slow',\n",
       " '63': 'Car Mount',\n",
       " '64': 'Ego Vehicle'}"
      ]
     },
     "execution_count": 29,
     "metadata": {},
     "output_type": "execute_result"
    }
   ],
   "source": [
    "data"
   ]
  },
  {
   "cell_type": "code",
   "execution_count": 10,
   "id": "4ca401b3-c0b2-4c61-85a9-bddc9f68b0e4",
   "metadata": {},
   "outputs": [],
   "source": [
    "device = torch.device('cuda' if torch.cuda.is_available() else 'cpu')"
   ]
  },
  {
   "cell_type": "code",
   "execution_count": 31,
   "id": "11d3e45b-df8d-4344-aef4-76900e2ba4b2",
   "metadata": {},
   "outputs": [],
   "source": [
    "image_indicators_dict = {}"
   ]
  },
  {
   "cell_type": "code",
   "execution_count": 26,
   "id": "f3ac55c4-c0c4-40eb-a10f-074a6025615a",
   "metadata": {},
   "outputs": [],
   "source": [
    "for pixel,count in zip(set_of_pixels[0], set_of_pixels[1]):\n",
    "        set_dictionary[pixel.item()] = count.item()"
   ]
  },
  {
   "cell_type": "code",
   "execution_count": 27,
   "id": "483b055d-45b1-4157-8721-ce41be80dd03",
   "metadata": {},
   "outputs": [
    {
     "data": {
      "text/plain": [
       "{0: nan,\n",
       " 1: nan,\n",
       " 2: 23,\n",
       " 3: nan,\n",
       " 4: 4,\n",
       " 5: nan,\n",
       " 6: nan,\n",
       " 7: nan,\n",
       " 8: nan,\n",
       " 9: nan,\n",
       " 10: nan,\n",
       " 11: nan,\n",
       " 12: nan,\n",
       " 13: 50861,\n",
       " 14: nan,\n",
       " 15: nan,\n",
       " 16: nan,\n",
       " 17: 17912,\n",
       " 18: nan,\n",
       " 19: nan,\n",
       " 20: nan,\n",
       " 21: nan,\n",
       " 22: nan,\n",
       " 23: nan,\n",
       " 24: nan,\n",
       " 25: nan,\n",
       " 26: nan,\n",
       " 27: 93085,\n",
       " 28: nan,\n",
       " 29: nan,\n",
       " 30: 375265,\n",
       " 31: nan,\n",
       " 32: nan,\n",
       " 33: nan,\n",
       " 34: nan,\n",
       " 35: nan,\n",
       " 36: nan,\n",
       " 37: nan,\n",
       " 38: nan,\n",
       " 39: nan,\n",
       " 40: nan,\n",
       " 41: nan,\n",
       " 42: nan,\n",
       " 43: nan,\n",
       " 44: nan,\n",
       " 45: 120,\n",
       " 46: nan,\n",
       " 47: nan,\n",
       " 48: nan,\n",
       " 49: nan,\n",
       " 50: 177,\n",
       " 51: nan,\n",
       " 52: nan,\n",
       " 53: nan,\n",
       " 54: nan,\n",
       " 55: 437,\n",
       " 56: nan,\n",
       " 57: nan,\n",
       " 58: nan,\n",
       " 59: nan,\n",
       " 60: nan,\n",
       " 61: nan,\n",
       " 62: nan,\n",
       " 63: nan,\n",
       " 64: 11467}"
      ]
     },
     "execution_count": 27,
     "metadata": {},
     "output_type": "execute_result"
    }
   ],
   "source": [
    "set_dictionary"
   ]
  },
  {
   "cell_type": "code",
   "execution_count": null,
   "id": "3b46a56f-aa92-4013-ab65-9c833ac318e0",
   "metadata": {},
   "outputs": [],
   "source": []
  }
 ],
 "metadata": {
  "kernelspec": {
   "display_name": "svi_global",
   "language": "python",
   "name": "svi_global"
  },
  "language_info": {
   "codemirror_mode": {
    "name": "ipython",
    "version": 3
   },
   "file_extension": ".py",
   "mimetype": "text/x-python",
   "name": "python",
   "nbconvert_exporter": "python",
   "pygments_lexer": "ipython3",
   "version": "3.9.16"
  }
 },
 "nbformat": 4,
 "nbformat_minor": 5
}
