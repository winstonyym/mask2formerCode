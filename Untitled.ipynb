{
 "cells": [
  {
   "cell_type": "code",
   "execution_count": 10,
   "id": "dcb525b2-994a-4615-bdd1-a546048d087d",
   "metadata": {
    "tags": []
   },
   "outputs": [
    {
     "name": "stdout",
     "output_type": "stream",
     "text": [
      "90\n"
     ]
    }
   ],
   "source": [
    "start = 0\n",
    "for i in range(100):\n",
    "    if i != 0 and  i % 10 == 0:\n",
    "        start = i\n",
    "print(start)\n",
    "        "
   ]
  },
  {
   "cell_type": "code",
   "execution_count": 1,
   "id": "cd235711-ee37-44d7-8570-8cefe39a1420",
   "metadata": {
    "tags": []
   },
   "outputs": [
    {
     "name": "stderr",
     "output_type": "stream",
     "text": [
      "/home/ual/.conda/envs/svi_global/lib/python3.9/site-packages/tqdm/auto.py:21: TqdmWarning: IProgress not found. Please update jupyter and ipywidgets. See https://ipywidgets.readthedocs.io/en/stable/user_install.html\n",
      "  from .autonotebook import tqdm as notebook_tqdm\n"
     ]
    }
   ],
   "source": [
    "import requests\n",
    "import json\n",
    "import torch\n",
    "import glob\n",
    "import os\n",
    "import numpy as np\n",
    "import shutil\n",
    "import argparse\n",
    "import logging\n",
    "import pandas as pd\n",
    "from PIL import Image, UnidentifiedImageError\n",
    "from torchvision import transforms\n",
    "from transformers import AutoImageProcessor, Mask2FormerForUniversalSegmentation\n",
    "import warnings\n",
    "import time\n",
    "from tqdm import tqdm"
   ]
  },
  {
   "cell_type": "code",
   "execution_count": 13,
   "id": "c1aec3f5-f597-47e3-a4f2-9b7b9db7c0ee",
   "metadata": {
    "tags": []
   },
   "outputs": [],
   "source": [
    "device = torch.device('cuda' if torch.cuda.is_available() else 'cpu')\n",
    "NUM_CLASSES = 65\n",
    "CLS_DICT = {'0': 'Bird',\n",
    " '1': 'Ground-Animal',\n",
    " '2': 'Curb',\n",
    " '3': 'Fence',\n",
    " '4': 'Guard-Rail',\n",
    " '5': 'Barrier',\n",
    " '6': 'Wall',\n",
    " '7': 'Bike-Lane',\n",
    " '8': 'Crosswalk---Plain',\n",
    " '9': 'Curb-Cut',\n",
    " '10': 'Parking',\n",
    " '11': 'Pedestrian-Area',\n",
    " '12': 'Rail-Track',\n",
    " '13': 'Road',\n",
    " '14': 'Service-Lane',\n",
    " '15': 'Sidewalk',\n",
    " '16': 'Bridge',\n",
    " '17': 'Building',\n",
    " '18': 'Tunnel',\n",
    " '19': 'Person',\n",
    " '20': 'Bicyclist',\n",
    " '21': 'Motorcyclist',\n",
    " '22': 'Other-Rider',\n",
    " '23': 'Lane-Marking---Crosswalk',\n",
    " '24': 'Lane-Marking---General',\n",
    " '25': 'Mountain',\n",
    " '26': 'Sand',\n",
    " '27': 'Sky',\n",
    " '28': 'Snow',\n",
    " '29': 'Terrain',\n",
    " '30': 'Vegetation',\n",
    " '31': 'Water',\n",
    " '32': 'Banner',\n",
    " '33': 'Bench',\n",
    " '34': 'Bike-Rack',\n",
    " '35': 'Billboard',\n",
    " '36': 'Catch-Basin',\n",
    " '37': 'CCTV-Camera',\n",
    " '38': 'Fire-Hydrant',\n",
    " '39': 'Junction-Box',\n",
    " '40': 'Mailbox',\n",
    " '41': 'Manhole',\n",
    " '42': 'Phone-Booth',\n",
    " '43': 'Pothole',\n",
    " '44': 'Street-Light',\n",
    " '45': 'Pole',\n",
    " '46': 'Traffic-Sign-Frame',\n",
    " '47': 'Utility-Pole',\n",
    " '48': 'Traffic-Light',\n",
    " '49': 'Traffic-Sign-(Back)',\n",
    " '50': 'Traffic-Sign-(Front)',\n",
    " '51': 'Trash-Can',\n",
    " '52': 'Bicycle',\n",
    " '53': 'Boat',\n",
    " '54': 'Bus',\n",
    " '55': 'Car',\n",
    " '56': 'Caravan',\n",
    " '57': 'Motorcycle',\n",
    " '58': 'On-Rails',\n",
    " '59': 'Other-Vehicle',\n",
    " '60': 'Trailer',\n",
    " '61': 'Truck',\n",
    " '62': 'Wheeled-Slow',\n",
    " '63': 'Car-Mount',\n",
    " '64': 'Ego-Vehicle'}\n",
    "\n",
    "# Get helper function\n",
    "def addIndice(output_max):\n",
    "    set_of_pixels = torch.unique(output_max, return_counts=True)\n",
    "    set_dictionary = {}\n",
    "    for i in range(NUM_CLASSES):\n",
    "            set_dictionary[str(i)] = 0\n",
    "    for pixel,count in zip(set_of_pixels[0], set_of_pixels[1]):\n",
    "        set_dictionary[str(pixel.item())] = count.item()\n",
    "    set_dictionary['Total'] = int(np.sum(list(set_dictionary.values())))\n",
    "    return set_dictionary\n",
    "\n",
    "# Load Mask2Former\n",
    "processor = AutoImageProcessor.from_pretrained(\"facebook/mask2former-swin-large-mapillary-vistas-semantic\")\n",
    "model = Mask2FormerForUniversalSegmentation.from_pretrained(\"facebook/mask2former-swin-large-mapillary-vistas-semantic\")\n",
    "model = model.to(device)"
   ]
  },
  {
   "cell_type": "code",
   "execution_count": 3,
   "id": "a5ec6e03-1fed-48b8-86fa-b260a9736dd2",
   "metadata": {
    "tags": []
   },
   "outputs": [
    {
     "name": "stdout",
     "output_type": "stream",
     "text": [
      "cuda\n"
     ]
    }
   ],
   "source": [
    "print(device)"
   ]
  },
  {
   "cell_type": "code",
   "execution_count": 8,
   "id": "4a27de90-9e34-4d19-9444-4da19b882d0b",
   "metadata": {
    "tags": []
   },
   "outputs": [],
   "source": [
    "# Set start state\n",
    "image_indicators_dict = {}\n",
    "\n",
    "# Create output folder if none exist\n",
    "if not os.path.exists(f'./outputs'):\n",
    "    os.makedirs(f'./outputs')\n",
    "\n",
    "# Get list of images\n",
    "image_set = [i for i in os.listdir(os.path.join(os.getcwd(),'test'))]"
   ]
  },
  {
   "cell_type": "code",
   "execution_count": 21,
   "id": "381d20a2-ba0b-4002-99e6-b71fff8d27b4",
   "metadata": {
    "tags": []
   },
   "outputs": [
    {
     "data": {
      "text/plain": [
       "'/media/ual/UAL-PSSD-1/global_streetscapes_imgs_1/'"
      ]
     },
     "execution_count": 21,
     "metadata": {},
     "output_type": "execute_result"
    }
   ],
   "source": [
    "os.path.join(os.getcwd(),'/media/ual/UAL-PSSD-1/global_streetscapes_imgs_1/')"
   ]
  },
  {
   "cell_type": "code",
   "execution_count": 25,
   "id": "c211a209-514c-4305-af6d-bbb71474493f",
   "metadata": {
    "tags": []
   },
   "outputs": [
    {
     "name": "stderr",
     "output_type": "stream",
     "text": [
      "100%|█████████████████████████████████████████████████████████████████████████████████████████████████████████████████████████████████████████████████████████████████████| 9/9 [00:00<00:00, 13438.50it/s]"
     ]
    },
    {
     "name": "stdout",
     "output_type": "stream",
     "text": [
      "Segmenting 128261845943214.jpg\n",
      "/media/ual/UAL-PSSD-1/global_streetscapes_imgs_1/128261845943214.jpg\n",
      "Segmenting 113165904586142.jpg\n",
      "/media/ual/UAL-PSSD-1/global_streetscapes_imgs_1/113165904586142.jpg\n",
      "Segmenting fakeimage.jpg\n",
      "/media/ual/UAL-PSSD-1/global_streetscapes_imgs_1/fakeimage.jpg\n",
      "Segmenting 130816899585186.jpg\n",
      "/media/ual/UAL-PSSD-1/global_streetscapes_imgs_1/130816899585186.jpg\n",
      "Segmenting 113256921118965.jpg\n",
      "/media/ual/UAL-PSSD-1/global_streetscapes_imgs_1/113256921118965.jpg\n",
      "Segmenting 130593129639737.jpg\n",
      "/media/ual/UAL-PSSD-1/global_streetscapes_imgs_1/130593129639737.jpg\n",
      "Segmenting 139784358078458.jpg\n",
      "/media/ual/UAL-PSSD-1/global_streetscapes_imgs_1/139784358078458.jpg\n",
      "Segmenting 130326246141798.jpg\n",
      "/media/ual/UAL-PSSD-1/global_streetscapes_imgs_1/130326246141798.jpg\n",
      "Segmenting 133260865451337.jpg\n",
      "/media/ual/UAL-PSSD-1/global_streetscapes_imgs_1/133260865451337.jpg\n"
     ]
    },
    {
     "name": "stderr",
     "output_type": "stream",
     "text": [
      "\n"
     ]
    }
   ],
   "source": [
    "for i, image in enumerate(tqdm(image_set[0:])):\n",
    "    print(f'Segmenting {image}')\n",
    "    print(os.path.join(os.getcwd(),'/media/ual/UAL-PSSD-1/global_streetscapes_imgs_1/', f'{image}'))"
   ]
  },
  {
   "cell_type": "code",
   "execution_count": null,
   "id": "1e3c73ab-7a41-420e-b25f-c5056727c2b4",
   "metadata": {},
   "outputs": [],
   "source": []
  }
 ],
 "metadata": {
  "kernelspec": {
   "display_name": "svi_global",
   "language": "python",
   "name": "svi_global"
  },
  "language_info": {
   "codemirror_mode": {
    "name": "ipython",
    "version": 3
   },
   "file_extension": ".py",
   "mimetype": "text/x-python",
   "name": "python",
   "nbconvert_exporter": "python",
   "pygments_lexer": "ipython3",
   "version": "3.9.17"
  }
 },
 "nbformat": 4,
 "nbformat_minor": 5
}
